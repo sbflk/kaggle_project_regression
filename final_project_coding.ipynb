{
 "cells": [
  {
   "cell_type": "code",
   "execution_count": 2,
   "metadata": {},
   "outputs": [
    {
     "name": "stdout",
     "output_type": "stream",
     "text": [
      "Enter a whole number34\n",
      "the number:  34  in base 2:  0b100010\n",
      "the number:  34  in base 8:  0o42\n",
      "the number:  34  in base 16:  0x22\n"
     ]
    }
   ],
   "source": [
    "#Q1\n",
    "x = input(\"Enter a whole number\")\n",
    "if float(x)%int(x) != 0:\n",
    "    print(\"that's not a whole number\")\n",
    "else:\n",
    "    x = int(x)\n",
    "    print(\"the number: \", x, \" in base 2: \", str(bin(x)))\n",
    "    print(\"the number: \", x, \" in base 8: \", str(oct(x)))\n",
    "    print(\"the number: \", x, \" in base 16: \", str(hex(x)))"
   ]
  },
  {
   "cell_type": "code",
   "execution_count": 3,
   "metadata": {},
   "outputs": [
    {
     "data": {
      "text/html": [
       "<div>\n",
       "<style scoped>\n",
       "    .dataframe tbody tr th:only-of-type {\n",
       "        vertical-align: middle;\n",
       "    }\n",
       "\n",
       "    .dataframe tbody tr th {\n",
       "        vertical-align: top;\n",
       "    }\n",
       "\n",
       "    .dataframe thead th {\n",
       "        text-align: right;\n",
       "    }\n",
       "</style>\n",
       "<table border=\"1\" class=\"dataframe\">\n",
       "  <thead>\n",
       "    <tr style=\"text-align: right;\">\n",
       "      <th></th>\n",
       "      <th>title</th>\n",
       "      <th>year</th>\n",
       "      <th>name</th>\n",
       "      <th>type</th>\n",
       "      <th>character</th>\n",
       "      <th>n</th>\n",
       "    </tr>\n",
       "  </thead>\n",
       "  <tbody>\n",
       "    <tr>\n",
       "      <th>0</th>\n",
       "      <td>Suuri illusioni</td>\n",
       "      <td>1985</td>\n",
       "      <td>Homo $</td>\n",
       "      <td>actor</td>\n",
       "      <td>Guests</td>\n",
       "      <td>22.0</td>\n",
       "    </tr>\n",
       "    <tr>\n",
       "      <th>1</th>\n",
       "      <td>Gangsta Rap: The Glockumentary</td>\n",
       "      <td>2007</td>\n",
       "      <td>Too $hort</td>\n",
       "      <td>actor</td>\n",
       "      <td>Himself</td>\n",
       "      <td>NaN</td>\n",
       "    </tr>\n",
       "    <tr>\n",
       "      <th>2</th>\n",
       "      <td>Menace II Society</td>\n",
       "      <td>1993</td>\n",
       "      <td>Too $hort</td>\n",
       "      <td>actor</td>\n",
       "      <td>Lew-Loc</td>\n",
       "      <td>27.0</td>\n",
       "    </tr>\n",
       "    <tr>\n",
       "      <th>3</th>\n",
       "      <td>Porndogs: The Adventures of Sadie</td>\n",
       "      <td>2009</td>\n",
       "      <td>Too $hort</td>\n",
       "      <td>actor</td>\n",
       "      <td>Bosco</td>\n",
       "      <td>3.0</td>\n",
       "    </tr>\n",
       "    <tr>\n",
       "      <th>4</th>\n",
       "      <td>Stop Pepper Palmer</td>\n",
       "      <td>2014</td>\n",
       "      <td>Too $hort</td>\n",
       "      <td>actor</td>\n",
       "      <td>Himself</td>\n",
       "      <td>NaN</td>\n",
       "    </tr>\n",
       "  </tbody>\n",
       "</table>\n",
       "</div>"
      ],
      "text/plain": [
       "                               title  year       name   type character     n\n",
       "0                    Suuri illusioni  1985     Homo $  actor    Guests  22.0\n",
       "1     Gangsta Rap: The Glockumentary  2007  Too $hort  actor   Himself   NaN\n",
       "2                  Menace II Society  1993  Too $hort  actor   Lew-Loc  27.0\n",
       "3  Porndogs: The Adventures of Sadie  2009  Too $hort  actor     Bosco   3.0\n",
       "4                 Stop Pepper Palmer  2014  Too $hort  actor   Himself   NaN"
      ]
     },
     "execution_count": 3,
     "metadata": {},
     "output_type": "execute_result"
    }
   ],
   "source": [
    "#Q2\n",
    "import pandas as pd\n",
    "cast = pd.read_csv('C:\\אריאל נושאי לימוד\\מבוא למדעי הנתונים\\cast.csv')\n",
    "cast.head()"
   ]
  },
  {
   "cell_type": "code",
   "execution_count": 4,
   "metadata": {},
   "outputs": [
    {
     "name": "stdout",
     "output_type": "stream",
     "text": [
      "299\n"
     ]
    }
   ],
   "source": [
    "print((cast.title.values == 'Hamlet').sum())\n",
    "\n",
    "#we search for all the rows where the value of the 'title' culomn is 'Hamlet'\n",
    "#we sum all the times it happens\n"
   ]
  },
  {
   "cell_type": "code",
   "execution_count": 5,
   "metadata": {},
   "outputs": [
    {
     "data": {
      "text/html": [
       "<div>\n",
       "<style scoped>\n",
       "    .dataframe tbody tr th:only-of-type {\n",
       "        vertical-align: middle;\n",
       "    }\n",
       "\n",
       "    .dataframe tbody tr th {\n",
       "        vertical-align: top;\n",
       "    }\n",
       "\n",
       "    .dataframe thead th {\n",
       "        text-align: right;\n",
       "    }\n",
       "</style>\n",
       "<table border=\"1\" class=\"dataframe\">\n",
       "  <thead>\n",
       "    <tr style=\"text-align: right;\">\n",
       "      <th></th>\n",
       "      <th>title</th>\n",
       "      <th>year</th>\n",
       "      <th>name</th>\n",
       "      <th>type</th>\n",
       "      <th>character</th>\n",
       "      <th>n</th>\n",
       "    </tr>\n",
       "  </thead>\n",
       "  <tbody>\n",
       "    <tr>\n",
       "      <th>1312766</th>\n",
       "      <td>Treasure Island</td>\n",
       "      <td>1918</td>\n",
       "      <td>Herschel Mayall</td>\n",
       "      <td>actor</td>\n",
       "      <td>Prologue Player</td>\n",
       "      <td>NaN</td>\n",
       "    </tr>\n",
       "    <tr>\n",
       "      <th>1404517</th>\n",
       "      <td>Treasure Island</td>\n",
       "      <td>1920</td>\n",
       "      <td>Bull Montana</td>\n",
       "      <td>actor</td>\n",
       "      <td>Morgan</td>\n",
       "      <td>8.0</td>\n",
       "    </tr>\n",
       "    <tr>\n",
       "      <th>926924</th>\n",
       "      <td>Treasure Island</td>\n",
       "      <td>1934</td>\n",
       "      <td>Olin Howland</td>\n",
       "      <td>actor</td>\n",
       "      <td>Pirate of the Spanish Main</td>\n",
       "      <td>13.0</td>\n",
       "    </tr>\n",
       "    <tr>\n",
       "      <th>1979467</th>\n",
       "      <td>Treasure Island</td>\n",
       "      <td>1950</td>\n",
       "      <td>Basil Sydney</td>\n",
       "      <td>actor</td>\n",
       "      <td>Captain Smollett</td>\n",
       "      <td>3.0</td>\n",
       "    </tr>\n",
       "    <tr>\n",
       "      <th>961365</th>\n",
       "      <td>Treasure Island</td>\n",
       "      <td>1972</td>\n",
       "      <td>V?ctor Israel</td>\n",
       "      <td>actor</td>\n",
       "      <td>Morgan</td>\n",
       "      <td>14.0</td>\n",
       "    </tr>\n",
       "    <tr>\n",
       "      <th>1954811</th>\n",
       "      <td>Treasure Island</td>\n",
       "      <td>1973</td>\n",
       "      <td>Larry Storch</td>\n",
       "      <td>actor</td>\n",
       "      <td>Captain Smollett</td>\n",
       "      <td>5.0</td>\n",
       "    </tr>\n",
       "    <tr>\n",
       "      <th>1137587</th>\n",
       "      <td>Treasure Island</td>\n",
       "      <td>1985</td>\n",
       "      <td>Martin Landau</td>\n",
       "      <td>actor</td>\n",
       "      <td>The Captain</td>\n",
       "      <td>2.0</td>\n",
       "    </tr>\n",
       "    <tr>\n",
       "      <th>104905</th>\n",
       "      <td>Treasure Island</td>\n",
       "      <td>1999</td>\n",
       "      <td>Lance (II) Baker</td>\n",
       "      <td>actor</td>\n",
       "      <td>Frank</td>\n",
       "      <td>1.0</td>\n",
       "    </tr>\n",
       "  </tbody>\n",
       "</table>\n",
       "</div>"
      ],
      "text/plain": [
       "                   title  year              name   type  \\\n",
       "1312766  Treasure Island  1918   Herschel Mayall  actor   \n",
       "1404517  Treasure Island  1920      Bull Montana  actor   \n",
       "926924   Treasure Island  1934      Olin Howland  actor   \n",
       "1979467  Treasure Island  1950      Basil Sydney  actor   \n",
       "961365   Treasure Island  1972     V?ctor Israel  actor   \n",
       "1954811  Treasure Island  1973      Larry Storch  actor   \n",
       "1137587  Treasure Island  1985     Martin Landau  actor   \n",
       "104905   Treasure Island  1999  Lance (II) Baker  actor   \n",
       "\n",
       "                          character     n  \n",
       "1312766             Prologue Player   NaN  \n",
       "1404517                      Morgan   8.0  \n",
       "926924   Pirate of the Spanish Main  13.0  \n",
       "1979467            Captain Smollett   3.0  \n",
       "961365                       Morgan  14.0  \n",
       "1954811            Captain Smollett   5.0  \n",
       "1137587                 The Captain   2.0  \n",
       "104905                        Frank   1.0  "
      ]
     },
     "execution_count": 5,
     "metadata": {},
     "output_type": "execute_result"
    }
   ],
   "source": [
    "groups_by_title = cast.groupby('title')\n",
    "treasure_island_movies = groups_by_title.get_group('Treasure Island')\n",
    "by_year = treasure_island_movies.sort_values('year')\n",
    "by_year.drop_duplicates(subset=['year'])\n",
    "\n",
    "\n",
    "#we group all the rows by the name of the title of the movie\n",
    "#after that we get all the rows from the 'treasure island' group\n",
    "#we sort the rows by the value of the year each movie came out in\n",
    "\n",
    "\n",
    "\n",
    "## the print shows the year of the movies in chronological order with one of the cast members because this is a cast df, not sure if this whats asked for.\n",
    "##print(treasure_island_movies.groupby('year').size())"
   ]
  },
  {
   "cell_type": "code",
   "execution_count": 6,
   "metadata": {},
   "outputs": [
    {
     "data": {
      "text/plain": [
       "9"
      ]
     },
     "execution_count": 6,
     "metadata": {},
     "output_type": "execute_result"
    }
   ],
   "source": [
    "hamlet_movies = groups_by_title.get_group('Hamlet')\n",
    "(hamlet_movies.year.values == 1921).sum()\n",
    "\n",
    "#we use the groups_by_title var to get all the rows the their title column is 'Hamlet'\n",
    "#then we sum all the rows that their year is 1921 from the 'Hamlet' rows \n"
   ]
  },
  {
   "cell_type": "code",
   "execution_count": 7,
   "metadata": {},
   "outputs": [
    {
     "data": {
      "text/plain": [
       "[<matplotlib.lines.Line2D at 0x2bb3fb3f2e0>]"
      ]
     },
     "execution_count": 7,
     "metadata": {},
     "output_type": "execute_result"
    },
    {
     "data": {
      "image/png": "[encoded data removed]",
      "text/plain": [
       "<Figure size 432x288 with 1 Axes>"
      ]
     },
     "metadata": {
      "needs_background": "light"
     },
     "output_type": "display_data"
    }
   ],
   "source": [
    "import matplotlib.pyplot as plt\n",
    "import numpy as np\n",
    "%matplotlib inline\n",
    "hamlet_movies_no_dups = hamlet_movies.drop_duplicates(subset=['year'])\n",
    "decades = np.arange(1910,2020,10)\n",
    "hamlet_years_releases = hamlet_movies_no_dups.year.values\n",
    "amount_in_each_decade = np.zeros(11)\n",
    "hamlet_decade_releases = (hamlet_years_releases//10)*10\n",
    "for i in range(10):\n",
    "    amount_in_each_decade[i] = np.count_nonzero(hamlet_decade_releases == decades[i])\n",
    "plt.plot(decades,amount_in_each_decade)\n",
    "\n",
    "\n",
    "\n",
    "\n",
    "#we create a series with no year duplictions and then we take the value of those years to an array.\n",
    "#we int-divide each year by ten and then multiply it back to turn them into decades.\n",
    "#after that we found the amount of times each decade is in the arraay and put it in the amount_in_each_decade array.\n"
   ]
  },
  {
   "cell_type": "code",
   "execution_count": 8,
   "metadata": {},
   "outputs": [
    {
     "name": "stdout",
     "output_type": "stream",
     "text": [
      "1950 :\n",
      "leading roles for actors:  604\n",
      "leading roles for actresses:  271\n",
      "\n",
      "1951 :\n",
      "leading roles for actors:  633\n",
      "leading roles for actresses:  272\n",
      "\n",
      "1952 :\n",
      "leading roles for actors:  591\n",
      "leading roles for actresses:  284\n",
      "\n",
      "1953 :\n",
      "leading roles for actors:  634\n",
      "leading roles for actresses:  290\n",
      "\n",
      "1954 :\n",
      "leading roles for actors:  626\n",
      "leading roles for actresses:  298\n",
      "\n",
      "1955 :\n",
      "leading roles for actors:  606\n",
      "leading roles for actresses:  264\n",
      "\n",
      "1956 :\n",
      "leading roles for actors:  614\n",
      "leading roles for actresses:  288\n",
      "\n",
      "1957 :\n",
      "leading roles for actors:  708\n",
      "leading roles for actresses:  284\n",
      "\n",
      "1958 :\n",
      "leading roles for actors:  694\n",
      "leading roles for actresses:  275\n",
      "\n",
      "1959 :\n",
      "leading roles for actors:  678\n",
      "leading roles for actresses:  287\n",
      "\n"
     ]
    }
   ],
   "source": [
    "groups_by_year = cast.groupby('year')\n",
    "for i in range(1950,1960):\n",
    "    print(i,\":\")\n",
    "    current_year = groups_by_year.get_group(i)    \n",
    "    main_amount = (current_year.n.values == 1)\n",
    "    male_amount = (current_year.type.values == 'actor')\n",
    "    female_amount = (current_year.type.values == 'actress')\n",
    "    actor_and_main = main_amount & male_amount\n",
    "    actress_and_main = main_amount & female_amount\n",
    "    print(\"leading roles for actors: \",np.sum(actor_and_main))\n",
    "    print(\"leading roles for actresses: \",np.sum(actress_and_main))\n",
    "    print()\n",
    "    \n",
    "    \n",
    "\n",
    "#three bool masks for main roles,actors and actresses for each year\n",
    "#to get the amount fo actors and actresses main roles you \"and\" the two masks"
   ]
  },
  {
   "cell_type": "code",
   "execution_count": 9,
   "metadata": {},
   "outputs": [
    {
     "name": "stdout",
     "output_type": "stream",
     "text": [
      "1 :  Mohanlal with  126.0  main roles.\n",
      "2 :  Mammootty with  118.0  main roles.\n",
      "3 :  Akshay Kumar with  87.0  main roles.\n",
      "4 :  Jayaram with  76.0  main roles.\n",
      "5 :  Andy Lau with  72.0  main roles.\n",
      "6 :  Ajay Devgn with  69.0  main roles.\n",
      "7 :  Eric Roberts with  68.0  main roles.\n",
      "8 :  Amitabh Bachchan with  68.0  main roles.\n",
      "9 :  Nagarjuna Akkineni with  60.0  main roles.\n",
      "10 :  Dilip with  59.0  main roles.\n"
     ]
    }
   ],
   "source": [
    "top_10 = np.zeros(10)\n",
    "top_10_names = [\"\",\"\",\"\",\"\",\"\",\"\",\"\",\"\",\"\",\"\"]\n",
    "only_main_roles = cast.drop(cast[cast.n.values != 1].index)\n",
    "main_after_90s = only_main_roles.drop(only_main_roles[only_main_roles.year.values < 1990].index)\n",
    "groups_by_name = main_after_90s.groupby('name')\n",
    "for name, group in groups_by_name:\n",
    "    main_cnt = group.sum().n\n",
    "    if main_cnt > top_10.min():\n",
    "        i = np.where(top_10 == top_10.min())[0][0]\n",
    "        top_10[i] = main_cnt\n",
    "        top_10_names[i] = name\n",
    "        \n",
    "top_10_dict = {}\n",
    "for i in range(10):\n",
    "    top_10_dict[top_10_names[i]] = top_10[i]\n",
    "\n",
    "    \n",
    "top_10 = -np.sort(-top_10)\n",
    "top_10_names_org =  [\"\",\"\",\"\",\"\",\"\",\"\",\"\",\"\",\"\",\"\"]\n",
    "top_10_to_del = np.copy(top_10)\n",
    "\n",
    "for name in top_10_names:\n",
    "    i = np.where(top_10_to_del == top_10_dict[name])\n",
    "    top_10_names_org[i[0][0]] = name\n",
    "    top_10_to_del[i[0][0]] = -1\n",
    "\n",
    "    \n",
    "for i in range(1,11):\n",
    "    print(i,\": \" , top_10_names_org[i-1], \"with \", top_10[i-1],\" main roles.\")\n",
    "    \n",
    "    \n",
    "    \n",
    "#we drop from the df all the cast members from movies before the 90s and all the side roles.\n",
    "#we group whats left from the df by name.\n",
    "#we go over each actor/actress and check how many main roles they had, if they had more than the person with the least main roles\n",
    "#in the top 10 they switch with them.\n",
    "#after that we sort the amount of main roles in a decending order and print it out."
   ]
  },
  {
   "cell_type": "code",
   "execution_count": 108,
   "metadata": {},
   "outputs": [
    {
     "name": "stdout",
     "output_type": "stream",
     "text": [
      "1979 -  The Muppet Movie\n",
      "\n",
      "1981 -  An American Werewolf in London,The Great Muppet Caper\n",
      "\n",
      "1982 -  The Dark Crystal\n",
      "\n",
      "1984 -  The Muppets Take Manhattan\n",
      "\n",
      "1985 -  Sesame Street Presents: Follow that Bird\n",
      "\n",
      "1992 -  The Muppet Christmas Carol\n",
      "\n",
      "1996 -  Muppet Treasure Island\n",
      "\n",
      "1999 -  Muppets from Space,The Adventures of Elmo in Grouchland\n",
      "\n"
     ]
    }
   ],
   "source": [
    "import collections\n",
    "cast_by_year = cast.groupby('name')\n",
    "a = cast_by_year.get_group('Frank Oz')\n",
    "a = a.groupby('title')\n",
    "\n",
    "dict1 = {}\n",
    "for g in a:\n",
    "    if len(g[1]) > 1:\n",
    "        y = g[1]['year'].values[0]\n",
    "        if y in dict1:\n",
    "            dict1[y] += ',' + g[0]\n",
    "        else: \n",
    "            dict1[y] = g[0]\n",
    "        \n",
    "ordered_dict = collections.OrderedDict(sorted(dict1.items()))\n",
    "\n",
    "\n",
    "for key in ordered_dict:\n",
    "    print(key,'- ', ordered_dict[key])\n",
    "    print()\n",
    "    \n",
    "    \n",
    "# we group by name then get the frank oz group and group it by title so we can get the names of the movies.\n",
    "# we create a dictionary and go over each group in the group by, if the length of the group is greater than 1, it means\n",
    "# that frank oz played more than 1 role in that movie so we put the year of the movie as a key in the dictionary \n",
    "# and the name of the movie as the value. in two years frank oz played in two movies two different charecters, so we check\n",
    "# if the year of a certain movie is in the dictionary already, if it is, it means that frank oz already played more than 1\n",
    "# charecter in a movie that year so we add the name of the second movie to the value of the key. we dont just put the name of\n",
    "# the movie regularly because it will overide the movie which is already in the dictionary.\n",
    "# then we sort the keys of the dictionary from smallest to biggest and we print them one by one."
   ]
  },
  {
   "cell_type": "code",
   "execution_count": null,
   "metadata": {},
   "outputs": [],
   "source": []
  },
  {
   "cell_type": "code",
   "execution_count": null,
   "metadata": {},
   "outputs": [],
   "source": []
  },
  {
   "cell_type": "code",
   "execution_count": null,
   "metadata": {},
   "outputs": [],
   "source": []
  }
 ],
 "metadata": {
  "kernelspec": {
   "display_name": "Python 3",
   "language": "python",
   "name": "python3"
  },
  "language_info": {
   "codemirror_mode": {
    "name": "ipython",
    "version": 3
   },
   "file_extension": ".py",
   "mimetype": "text/x-python",
   "name": "python",
   "nbconvert_exporter": "python",
   "pygments_lexer": "ipython3",
   "version": "3.8.3"
  }
 },
 "nbformat": 4,
 "nbformat_minor": 4
}
