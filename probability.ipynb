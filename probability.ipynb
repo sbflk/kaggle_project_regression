{
 "cells": [
  {
   "cell_type": "code",
   "execution_count": null,
   "metadata": {},
   "outputs": [],
   "source": [
    "#Q1\n",
    "\n",
    "#because we already know that elvis had a twin tha answer is:\n",
    "\n",
    "#(1/300)/((1/300) + (1/125)) = 5/17\n",
    "\n",
    "\n",
    "#we know that eric chose a chocolate cookie\n",
    "\n",
    "#(0.5*0.75)/((0.5*0.75)+(0.5*0.5)) = 0.6"
   ]
  },
  {
   "cell_type": "code",
   "execution_count": null,
   "metadata": {},
   "outputs": [],
   "source": [
    "#Q2\n",
    "\n",
    "#we need to divide the chance of getting a yellow m&m from the 1994 pack by the\n",
    "#sum of the chances of getting it\n",
    "\n",
    "#20/(20+14) = 0.58"
   ]
  },
  {
   "cell_type": "code",
   "execution_count": null,
   "metadata": {},
   "outputs": [],
   "source": [
    "#Q3\n",
    "\n",
    "#p(H/E) = (P(E/H) * P(H))/(P(E))\n",
    "\n",
    "# the chance of you being ill if we are given the information that the test\n",
    "# classified you as positive is the probabilty that test classfied you as\n",
    "# positive given tha information that you are ill, which is 0.99, multiplied\n",
    "# by the chance of you being ill which is 1/10000 divided by the chance of\n",
    "# the test classifing you as positive which is the chance of you actually being\n",
    "# ill and the test is currect plus the chance of you not being ill and the \n",
    "# test classifing you as ill which is 1% chance\n",
    "\n",
    "#(0.99 * (1/10000))/ (0.99 * (1/10000)) + (0.01 * (1/10000)) = 1/102\n",
    "\n",
    "\n",
    "\n",
    "#(0.99 * (1/200))/ (0.99 * (1/200)) + (0.01 * (1/200)) = 0.33"
   ]
  },
  {
   "cell_type": "code",
   "execution_count": null,
   "metadata": {},
   "outputs": [],
   "source": [
    "#Q4\n",
    "\n",
    "# between 1 and 12 there are 4 numbers which are divisable by 3 and 8 that\n",
    "# aren't.so the chance of roi winnig a single roll is 1/3.\n",
    "# statisticly, roi should win 1 roll out of 3 and lose the other 2, which\n",
    "# means he gets 6$ once and loses 3$ twice so his expected value is 0 overall."
   ]
  },
  {
   "cell_type": "code",
   "execution_count": null,
   "metadata": {},
   "outputs": [],
   "source": [
    "#Q5\n",
    "\n",
    "# there are 25 possible combinations of two markers which one is green and the\n",
    "# other is red. the chance of getting exactley 12 is 4/25.\n",
    "# the chance of getting under 12 is 15/25 which leaves the chance of getting\n",
    "# over 12 being 6/25.\n",
    "# every 25 games alex should lose 15 which means he loses 90$ and win 6 \n",
    "# games and win 30$.\n",
    "# alex's expected value is losing 60$ every 25 games."
   ]
  },
  {
   "cell_type": "code",
   "execution_count": 4,
   "metadata": {},
   "outputs": [],
   "source": [
    "#Q6\n",
    "\n",
    "# 40% of the company are males which means that on average, 40% of the 8\n",
    "# employees chosen each month are male which is 3.2.\n",
    "# the standard divation is:\n",
    "# std = (8*0.4*(1-0.6))^0.5 = 1.38"
   ]
  },
  {
   "cell_type": "code",
   "execution_count": null,
   "metadata": {},
   "outputs": [],
   "source": [
    "#Q7\n",
    "\n",
    "# the mean is 26000$ and the std is 2000$.\n",
    "# to find the probability of the car costing between 26 and 30 thousend \n",
    "# dollars we need to calculate the z-score.\n",
    "# k = 26, a = 2\n",
    "# P(k1 < X < k2) = P((k1-k)/a < z < (k2-k)/a)\n",
    "# P(26 < X < 30) = P((26-26)/2 < z < (30 -26)/2) = P(0 < z < 2)\n",
    "# using a z-score table we find out that P(0 < z < 2) = 0.4772"
   ]
  },
  {
   "cell_type": "code",
   "execution_count": null,
   "metadata": {},
   "outputs": [],
   "source": [
    "#Q8\n",
    "\n",
    "# the probability that x is greater than 3 in the followin distribution\n",
    "# is the area below the graph between 3 and 5 divided by the total area\n",
    "# under the graph.\n",
    "# the total area is : 0.4*5/2 = 1\n",
    "# and the area from 3 to 5 is : 0.4*2/2 = 0.4\n",
    "# so P(x>3) = 0.4/1 = 0.4."
   ]
  },
  {
   "cell_type": "code",
   "execution_count": null,
   "metadata": {},
   "outputs": [],
   "source": [
    "#Q9\n",
    "\n",
    "# the probabilty that exactley 3 of the 4 employees selected have children is:\n",
    "# 4*((300/500)*(299/499)*(298/498)*(200/497)) = 0.346\n",
    "# we multiply by four because there are 4 different scenarios, the first one\n",
    "# is the one without children, the second one is the one without children and\n",
    "# so on."
   ]
  },
  {
   "cell_type": "code",
   "execution_count": null,
   "metadata": {},
   "outputs": [],
   "source": [
    "#Q10\n",
    "\n",
    "# lets use the formula for a continuous random variable.\n",
    "\n",
    "# E(X) = sigma Xi*F(Xi)\n",
    "\n",
    "# -10*0.1 -5*0.35 + 0*0.1 + 5*0.35 + 10*0.1 = 0"
   ]
  },
  {
   "cell_type": "code",
   "execution_count": null,
   "metadata": {},
   "outputs": [],
   "source": []
  }
 ],
 "metadata": {
  "kernelspec": {
   "display_name": "Python 3",
   "language": "python",
   "name": "python3"
  },
  "language_info": {
   "codemirror_mode": {
    "name": "ipython",
    "version": 3
   },
   "file_extension": ".py",
   "mimetype": "text/x-python",
   "name": "python",
   "nbconvert_exporter": "python",
   "pygments_lexer": "ipython3",
   "version": "3.8.3"
  }
 },
 "nbformat": 4,
 "nbformat_minor": 4
}
